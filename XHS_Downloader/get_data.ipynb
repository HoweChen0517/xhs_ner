{
 "cells": [
  {
   "cell_type": "code",
   "execution_count": 1,
   "metadata": {},
   "outputs": [],
   "source": [
    "import pandas as pd"
   ]
  },
  {
   "cell_type": "code",
   "execution_count": null,
   "metadata": {},
   "outputs": [],
   "source": [
    "# 去非中文、英文、数字字符， 如表情，小语种字符\n",
    "def rmUNK(line):\n",
    "    import re\n",
    "    pattern = re.compile(u'[^0-9a-zA-Z\\u4e00-\\u9fa5.，,。？“”]+', re.UNICODE)\n",
    "    return pattern.sub('', line.strip())"
   ]
  },
  {
   "cell_type": "code",
   "execution_count": 17,
   "metadata": {},
   "outputs": [
    {
     "data": {
      "text/plain": [
       "'全新一家山缓缓翘脚牛肉火锅正式入驻厦门万象城，目前已经在厦门万象城西区广场围挡亮相，即将于明年元旦正式开出这也是厦门首家的山缓缓翘脚牛肉火锅门店，福建首家门店则入驻了福州东白中心。山缓缓翘脚牛肉火锅成立于2022年，一家以翘脚牛肉为招牌的川系火锅品牌。山缓缓定位年轻客群，试图将火锅与自然山野相结合，在其门店可以看到是以山系为品牌门店主要的呈现风格，这也能为品牌客群提供社交属性以打出用餐体验的差异化。目前，厦门餐饮中已经开出了不少以翘脚牛肉为招牌的火锅品牌，那么山缓缓的入驻是否依然受到大家的欢迎，让我们一起拭目以待如果你也期待的话，请举个手表示一下吧最后，大家还期待哪些餐饮品牌入驻厦门欢迎在评论区留言分享航海家Navigator话题厦门话题厦门商业话题厦门新店话题厦门商场话题厦门商圈话题厦门新商圈话题华润话题万象城话题厦门万象城话题火锅话题牛肉火锅话题翘脚牛肉话题翘脚牛肉火锅话题山缓缓火锅话题山缓缓话题山缓缓跷脚牛肉火锅话题'"
      ]
     },
     "execution_count": 17,
     "metadata": {},
     "output_type": "execute_result"
    }
   ],
   "source": [
    "df = pd.read_csv('./Download/data.csv')\n",
    "df['作品描述'] = df['作品描述'].apply(lambda x: rmUNK(str(x)))\n",
    "df['作品描述'][0]"
   ]
  },
  {
   "cell_type": "code",
   "execution_count": null,
   "metadata": {},
   "outputs": [],
   "source": []
  },
  {
   "cell_type": "code",
   "execution_count": 3,
   "metadata": {},
   "outputs": [
    {
     "data": {
      "text/plain": [
       "0      全新一家山缓缓翘脚牛肉火锅正式入驻厦门万象城，目前已经在厦门万象城西区广场围挡亮相，即将于明...\n",
       "1      上周，Vogue Business 杂志邀请我们，就近两年国内奥特莱斯的逆势崛起这一商业趋势...\n",
       "2      今天，米其林正式公布了福建省首版的米其林指南榜单，了包括厦门、泉州、福州这三座闽地城市的69...\n",
       "3      ARKET 诞生于2007年，品牌名为一张白纸，是一家来自瑞典的北欧生活方式时装品牌。\\n\\...\n",
       "4      这几天，优衣库出事了！\\n\\t\\n此次事件是近期优衣库的老板柳井正接受采访表示，自家产品的生...\n",
       "                             ...                        \n",
       "797    被潮流媒体@HYPEBEAST 独家报道的澳洲冲浪品牌Critical Slide落户厦门，...\n",
       "798    前几天，艺人白敬亭的品牌GoodBai，在上海一开业就吸引众多客群，门店一上架就屡屡售罄。\\...\n",
       "799    虞书欣代言的韩国美妆品牌3CE入驻厦门宝龙一城，这是品牌的福建首家门店。\\n\\t\\n3CE是...\n",
       "800    今年是磐基在厦门的第15周年纪念日，作为福建首家高端购物中心，怎么评价磐基如今在厦门的表现？...\n",
       "801    假如你有三天小假期[暗中观察R]\\n三天假期自驾天津逛吃玩起来~[自拍R]\\n☑️DAY1：...\n",
       "Name: text, Length: 802, dtype: object"
      ]
     },
     "execution_count": 3,
     "metadata": {},
     "output_type": "execute_result"
    }
   ],
   "source": [
    "text_data.rename('text', inplace=True)\n",
    "# text_data.to_csv('../data/text_data.csv', index=False)"
   ]
  },
  {
   "cell_type": "code",
   "execution_count": null,
   "metadata": {},
   "outputs": [
    {
     "data": {
      "text/plain": [
       "(802,)"
      ]
     },
     "execution_count": 9,
     "metadata": {},
     "output_type": "execute_result"
    }
   ],
   "source": [
    "text_data"
   ]
  }
 ],
 "metadata": {
  "kernelspec": {
   "display_name": "XHS_Downloader",
   "language": "python",
   "name": "python3"
  },
  "language_info": {
   "codemirror_mode": {
    "name": "ipython",
    "version": 3
   },
   "file_extension": ".py",
   "mimetype": "text/x-python",
   "name": "python",
   "nbconvert_exporter": "python",
   "pygments_lexer": "ipython3",
   "version": "3.12.7"
  }
 },
 "nbformat": 4,
 "nbformat_minor": 2
}
